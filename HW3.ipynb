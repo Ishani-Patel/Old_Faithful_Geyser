{
  "nbformat": 4,
  "nbformat_minor": 0,
  "metadata": {
    "colab": {
      "provenance": [],
      "include_colab_link": true
    },
    "kernelspec": {
      "name": "python3",
      "display_name": "Python 3"
    },
    "language_info": {
      "name": "python"
    }
  },
  "cells": [
    {
      "cell_type": "markdown",
      "metadata": {
        "id": "view-in-github",
        "colab_type": "text"
      },
      "source": [
        "<a href=\"https://colab.research.google.com/github/Ishani-Patel/Old_Faithful_Geyser/blob/main/HW3.ipynb\" target=\"_parent\"><img src=\"https://colab.research.google.com/assets/colab-badge.svg\" alt=\"Open In Colab\"/></a>"
      ]
    },
    {
      "cell_type": "code",
      "execution_count": null,
      "metadata": {
        "id": "3weLtbG9t9eA"
      },
      "outputs": [],
      "source": [
        "import pandas as pd\n",
        "import matplotlib.pyplot as plt\n",
        "import plotly.express as px\n",
        "import numpy as np"
      ]
    },
    {
      "cell_type": "code",
      "source": [
        "df = pd.read_csv (\"https://raw.githubusercontent.com/Ishani-Patel/Old_Faithful_Geyser/main/faithful.csv\")"
      ],
      "metadata": {
        "id": "bhf8K91puNA2"
      },
      "execution_count": null,
      "outputs": []
    },
    {
      "cell_type": "code",
      "source": [
        "df.head(5)"
      ],
      "metadata": {
        "colab": {
          "base_uri": "https://localhost:8080/",
          "height": 206
        },
        "id": "7PlLYJxsXYi5",
        "outputId": "f101c84f-d54a-4eed-be0c-5f3a72659285"
      },
      "execution_count": null,
      "outputs": [
        {
          "output_type": "execute_result",
          "data": {
            "text/plain": [
              "   eruptions  waiting\n",
              "0      3.600       79\n",
              "1      1.800       54\n",
              "2      3.333       74\n",
              "3      2.283       62\n",
              "4      4.533       85"
            ],
            "text/html": [
              "\n",
              "  <div id=\"df-bc16f396-4853-4831-b73a-a99bccfe194d\">\n",
              "    <div class=\"colab-df-container\">\n",
              "      <div>\n",
              "<style scoped>\n",
              "    .dataframe tbody tr th:only-of-type {\n",
              "        vertical-align: middle;\n",
              "    }\n",
              "\n",
              "    .dataframe tbody tr th {\n",
              "        vertical-align: top;\n",
              "    }\n",
              "\n",
              "    .dataframe thead th {\n",
              "        text-align: right;\n",
              "    }\n",
              "</style>\n",
              "<table border=\"1\" class=\"dataframe\">\n",
              "  <thead>\n",
              "    <tr style=\"text-align: right;\">\n",
              "      <th></th>\n",
              "      <th>eruptions</th>\n",
              "      <th>waiting</th>\n",
              "    </tr>\n",
              "  </thead>\n",
              "  <tbody>\n",
              "    <tr>\n",
              "      <th>0</th>\n",
              "      <td>3.600</td>\n",
              "      <td>79</td>\n",
              "    </tr>\n",
              "    <tr>\n",
              "      <th>1</th>\n",
              "      <td>1.800</td>\n",
              "      <td>54</td>\n",
              "    </tr>\n",
              "    <tr>\n",
              "      <th>2</th>\n",
              "      <td>3.333</td>\n",
              "      <td>74</td>\n",
              "    </tr>\n",
              "    <tr>\n",
              "      <th>3</th>\n",
              "      <td>2.283</td>\n",
              "      <td>62</td>\n",
              "    </tr>\n",
              "    <tr>\n",
              "      <th>4</th>\n",
              "      <td>4.533</td>\n",
              "      <td>85</td>\n",
              "    </tr>\n",
              "  </tbody>\n",
              "</table>\n",
              "</div>\n",
              "      <button class=\"colab-df-convert\" onclick=\"convertToInteractive('df-bc16f396-4853-4831-b73a-a99bccfe194d')\"\n",
              "              title=\"Convert this dataframe to an interactive table.\"\n",
              "              style=\"display:none;\">\n",
              "        \n",
              "  <svg xmlns=\"http://www.w3.org/2000/svg\" height=\"24px\"viewBox=\"0 0 24 24\"\n",
              "       width=\"24px\">\n",
              "    <path d=\"M0 0h24v24H0V0z\" fill=\"none\"/>\n",
              "    <path d=\"M18.56 5.44l.94 2.06.94-2.06 2.06-.94-2.06-.94-.94-2.06-.94 2.06-2.06.94zm-11 1L8.5 8.5l.94-2.06 2.06-.94-2.06-.94L8.5 2.5l-.94 2.06-2.06.94zm10 10l.94 2.06.94-2.06 2.06-.94-2.06-.94-.94-2.06-.94 2.06-2.06.94z\"/><path d=\"M17.41 7.96l-1.37-1.37c-.4-.4-.92-.59-1.43-.59-.52 0-1.04.2-1.43.59L10.3 9.45l-7.72 7.72c-.78.78-.78 2.05 0 2.83L4 21.41c.39.39.9.59 1.41.59.51 0 1.02-.2 1.41-.59l7.78-7.78 2.81-2.81c.8-.78.8-2.07 0-2.86zM5.41 20L4 18.59l7.72-7.72 1.47 1.35L5.41 20z\"/>\n",
              "  </svg>\n",
              "      </button>\n",
              "      \n",
              "  <style>\n",
              "    .colab-df-container {\n",
              "      display:flex;\n",
              "      flex-wrap:wrap;\n",
              "      gap: 12px;\n",
              "    }\n",
              "\n",
              "    .colab-df-convert {\n",
              "      background-color: #E8F0FE;\n",
              "      border: none;\n",
              "      border-radius: 50%;\n",
              "      cursor: pointer;\n",
              "      display: none;\n",
              "      fill: #1967D2;\n",
              "      height: 32px;\n",
              "      padding: 0 0 0 0;\n",
              "      width: 32px;\n",
              "    }\n",
              "\n",
              "    .colab-df-convert:hover {\n",
              "      background-color: #E2EBFA;\n",
              "      box-shadow: 0px 1px 2px rgba(60, 64, 67, 0.3), 0px 1px 3px 1px rgba(60, 64, 67, 0.15);\n",
              "      fill: #174EA6;\n",
              "    }\n",
              "\n",
              "    [theme=dark] .colab-df-convert {\n",
              "      background-color: #3B4455;\n",
              "      fill: #D2E3FC;\n",
              "    }\n",
              "\n",
              "    [theme=dark] .colab-df-convert:hover {\n",
              "      background-color: #434B5C;\n",
              "      box-shadow: 0px 1px 3px 1px rgba(0, 0, 0, 0.15);\n",
              "      filter: drop-shadow(0px 1px 2px rgba(0, 0, 0, 0.3));\n",
              "      fill: #FFFFFF;\n",
              "    }\n",
              "  </style>\n",
              "\n",
              "      <script>\n",
              "        const buttonEl =\n",
              "          document.querySelector('#df-bc16f396-4853-4831-b73a-a99bccfe194d button.colab-df-convert');\n",
              "        buttonEl.style.display =\n",
              "          google.colab.kernel.accessAllowed ? 'block' : 'none';\n",
              "\n",
              "        async function convertToInteractive(key) {\n",
              "          const element = document.querySelector('#df-bc16f396-4853-4831-b73a-a99bccfe194d');\n",
              "          const dataTable =\n",
              "            await google.colab.kernel.invokeFunction('convertToInteractive',\n",
              "                                                     [key], {});\n",
              "          if (!dataTable) return;\n",
              "\n",
              "          const docLinkHtml = 'Like what you see? Visit the ' +\n",
              "            '<a target=\"_blank\" href=https://colab.research.google.com/notebooks/data_table.ipynb>data table notebook</a>'\n",
              "            + ' to learn more about interactive tables.';\n",
              "          element.innerHTML = '';\n",
              "          dataTable['output_type'] = 'display_data';\n",
              "          await google.colab.output.renderOutput(dataTable, element);\n",
              "          const docLink = document.createElement('div');\n",
              "          docLink.innerHTML = docLinkHtml;\n",
              "          element.appendChild(docLink);\n",
              "        }\n",
              "      </script>\n",
              "    </div>\n",
              "  </div>\n",
              "  "
            ]
          },
          "metadata": {},
          "execution_count": 7
        }
      ]
    },
    {
      "cell_type": "markdown",
      "source": [
        "##Problem 1\n",
        "###**a. Create and print out a scatter plot of this dataset, eruption time versus waiting time.**\n"
      ],
      "metadata": {
        "id": "y5FEVDNiXprs"
      }
    },
    {
      "cell_type": "code",
      "source": [
        "\n",
        "fig = px.scatter(df, x=\"eruptions\", y=\"waiting\")\n",
        "fig.show()"
      ],
      "metadata": {
        "colab": {
          "base_uri": "https://localhost:8080/",
          "height": 542
        },
        "id": "gT27H2Jnwn_v",
        "outputId": "aac89801-2193-43dc-af93-54b32cda0d38"
      },
      "execution_count": null,
      "outputs": [
        {
          "output_type": "display_data",
          "data": {
            "text/html": [
              "<html>\n",
              "<head><meta charset=\"utf-8\" /></head>\n",
              "<body>\n",
              "    <div>            <script src=\"https://cdnjs.cloudflare.com/ajax/libs/mathjax/2.7.5/MathJax.js?config=TeX-AMS-MML_SVG\"></script><script type=\"text/javascript\">if (window.MathJax) {MathJax.Hub.Config({SVG: {font: \"STIX-Web\"}});}</script>                <script type=\"text/javascript\">window.PlotlyConfig = {MathJaxConfig: 'local'};</script>\n",
              "        <script src=\"https://cdn.plot.ly/plotly-2.8.3.min.js\"></script>                <div id=\"7c63e085-e914-466c-9fa9-7cdad65246dd\" class=\"plotly-graph-div\" style=\"height:525px; width:100%;\"></div>            <script type=\"text/javascript\">                                    window.PLOTLYENV=window.PLOTLYENV || {};                                    if (document.getElementById(\"7c63e085-e914-466c-9fa9-7cdad65246dd\")) {                    Plotly.newPlot(                        \"7c63e085-e914-466c-9fa9-7cdad65246dd\",                        [{\"hovertemplate\":\"eruptions=%{x}<br>waiting=%{y}<extra></extra>\",\"legendgroup\":\"\",\"marker\":{\"color\":\"#636efa\",\"symbol\":\"circle\"},\"mode\":\"markers\",\"name\":\"\",\"orientation\":\"v\",\"showlegend\":false,\"x\":[3.6,1.8,3.333,2.283,4.533,2.883,4.7,3.6,1.95,4.35,1.833,3.917,4.2,1.75,4.7,2.167,1.75,4.8,1.6,4.25,1.8,1.75,3.45,3.067,4.533,3.6,1.967,4.083,3.85,4.433,4.3,4.467,3.367,4.033,3.833,2.017,1.867,4.833,1.833,4.783,4.35,1.883,4.567,1.75,4.533,3.317,3.833,2.1,4.633,2.0,4.8,4.716,1.833,4.833,1.733,4.883,3.717,1.667,4.567,4.317,2.233,4.5,1.75,4.8,1.817,4.4,4.167,4.7,2.067,4.7,4.033,1.967,4.5,4.0,1.983,5.067,2.017,4.567,3.883,3.6,4.133,4.333,4.1,2.633,4.067,4.933,3.95,4.517,2.167,4.0,2.2,4.333,1.867,4.817,1.833,4.3,4.667,3.75,1.867,4.9,2.483,4.367,2.1,4.5,4.05,1.867,4.7,1.783,4.85,3.683,4.733,2.3,4.9,4.417,1.7,4.633,2.317,4.6,1.817,4.417,2.617,4.067,4.25,1.967,4.6,3.767,1.917,4.5,2.267,4.65,1.867,4.167,2.8,4.333,1.833,4.383,1.883,4.933,2.033,3.733,4.233,2.233,4.533,4.817,4.333,1.983,4.633,2.017,5.1,1.8,5.033,4.0,2.4,4.6,3.567,4.0,4.5,4.083,1.8,3.967,2.2,4.15,2.0,3.833,3.5,4.583,2.367,5.0,1.933,4.617,1.917,2.083,4.583,3.333,4.167,4.333,4.5,2.417,4.0,4.167,1.883,4.583,4.25,3.767,2.033,4.433,4.083,1.833,4.417,2.183,4.8,1.833,4.8,4.1,3.966,4.233,3.5,4.366,2.25,4.667,2.1,4.35,4.133,1.867,4.6,1.783,4.367,3.85,1.933,4.5,2.383,4.7,1.867,3.833,3.417,4.233,2.4,4.8,2.0,4.15,1.867,4.267,1.75,4.483,4.0,4.117,4.083,4.267,3.917,4.55,4.083,2.417,4.183,2.217,4.45,1.883,1.85,4.283,3.95,2.333,4.15,2.35,4.933,2.9,4.583,3.833,2.083,4.367,2.133,4.35,2.2,4.45,3.567,4.5,4.15,3.817,3.917,4.45,2.0,4.283,4.767,4.533,1.85,4.25,1.983,2.25,4.75,4.117,2.15,4.417,1.817,4.467],\"xaxis\":\"x\",\"y\":[79,54,74,62,85,55,88,85,51,85,54,84,78,47,83,52,62,84,52,79,51,47,78,69,74,83,55,76,78,79,73,77,66,80,74,52,48,80,59,90,80,58,84,58,73,83,64,53,82,59,75,90,54,80,54,83,71,64,77,81,59,84,48,82,60,92,78,78,65,73,82,56,79,71,62,76,60,78,76,83,75,82,70,65,73,88,76,80,48,86,60,90,50,78,63,72,84,75,51,82,62,88,49,83,81,47,84,52,86,81,75,59,89,79,59,81,50,85,59,87,53,69,77,56,88,81,45,82,55,90,45,83,56,89,46,82,51,86,53,79,81,60,82,77,76,59,80,49,96,53,77,77,65,81,71,70,81,93,53,89,45,86,58,78,66,76,63,88,52,93,49,57,77,68,81,81,73,50,85,74,55,77,83,83,51,78,84,46,83,55,81,57,76,84,77,81,87,77,51,78,60,82,91,53,78,46,77,84,49,83,71,80,49,75,64,76,53,94,55,76,50,82,54,75,78,79,78,78,70,79,70,54,86,50,90,54,54,77,79,64,75,47,86,63,85,82,57,82,67,74,54,83,73,73,88,80,71,83,56,79,78,84,58,83,43,60,75,81,46,90,46,74],\"yaxis\":\"y\",\"type\":\"scatter\"}],                        {\"template\":{\"data\":{\"bar\":[{\"error_x\":{\"color\":\"#2a3f5f\"},\"error_y\":{\"color\":\"#2a3f5f\"},\"marker\":{\"line\":{\"color\":\"#E5ECF6\",\"width\":0.5},\"pattern\":{\"fillmode\":\"overlay\",\"size\":10,\"solidity\":0.2}},\"type\":\"bar\"}],\"barpolar\":[{\"marker\":{\"line\":{\"color\":\"#E5ECF6\",\"width\":0.5},\"pattern\":{\"fillmode\":\"overlay\",\"size\":10,\"solidity\":0.2}},\"type\":\"barpolar\"}],\"carpet\":[{\"aaxis\":{\"endlinecolor\":\"#2a3f5f\",\"gridcolor\":\"white\",\"linecolor\":\"white\",\"minorgridcolor\":\"white\",\"startlinecolor\":\"#2a3f5f\"},\"baxis\":{\"endlinecolor\":\"#2a3f5f\",\"gridcolor\":\"white\",\"linecolor\":\"white\",\"minorgridcolor\":\"white\",\"startlinecolor\":\"#2a3f5f\"},\"type\":\"carpet\"}],\"choropleth\":[{\"colorbar\":{\"outlinewidth\":0,\"ticks\":\"\"},\"type\":\"choropleth\"}],\"contour\":[{\"colorbar\":{\"outlinewidth\":0,\"ticks\":\"\"},\"colorscale\":[[0.0,\"#0d0887\"],[0.1111111111111111,\"#46039f\"],[0.2222222222222222,\"#7201a8\"],[0.3333333333333333,\"#9c179e\"],[0.4444444444444444,\"#bd3786\"],[0.5555555555555556,\"#d8576b\"],[0.6666666666666666,\"#ed7953\"],[0.7777777777777778,\"#fb9f3a\"],[0.8888888888888888,\"#fdca26\"],[1.0,\"#f0f921\"]],\"type\":\"contour\"}],\"contourcarpet\":[{\"colorbar\":{\"outlinewidth\":0,\"ticks\":\"\"},\"type\":\"contourcarpet\"}],\"heatmap\":[{\"colorbar\":{\"outlinewidth\":0,\"ticks\":\"\"},\"colorscale\":[[0.0,\"#0d0887\"],[0.1111111111111111,\"#46039f\"],[0.2222222222222222,\"#7201a8\"],[0.3333333333333333,\"#9c179e\"],[0.4444444444444444,\"#bd3786\"],[0.5555555555555556,\"#d8576b\"],[0.6666666666666666,\"#ed7953\"],[0.7777777777777778,\"#fb9f3a\"],[0.8888888888888888,\"#fdca26\"],[1.0,\"#f0f921\"]],\"type\":\"heatmap\"}],\"heatmapgl\":[{\"colorbar\":{\"outlinewidth\":0,\"ticks\":\"\"},\"colorscale\":[[0.0,\"#0d0887\"],[0.1111111111111111,\"#46039f\"],[0.2222222222222222,\"#7201a8\"],[0.3333333333333333,\"#9c179e\"],[0.4444444444444444,\"#bd3786\"],[0.5555555555555556,\"#d8576b\"],[0.6666666666666666,\"#ed7953\"],[0.7777777777777778,\"#fb9f3a\"],[0.8888888888888888,\"#fdca26\"],[1.0,\"#f0f921\"]],\"type\":\"heatmapgl\"}],\"histogram\":[{\"marker\":{\"pattern\":{\"fillmode\":\"overlay\",\"size\":10,\"solidity\":0.2}},\"type\":\"histogram\"}],\"histogram2d\":[{\"colorbar\":{\"outlinewidth\":0,\"ticks\":\"\"},\"colorscale\":[[0.0,\"#0d0887\"],[0.1111111111111111,\"#46039f\"],[0.2222222222222222,\"#7201a8\"],[0.3333333333333333,\"#9c179e\"],[0.4444444444444444,\"#bd3786\"],[0.5555555555555556,\"#d8576b\"],[0.6666666666666666,\"#ed7953\"],[0.7777777777777778,\"#fb9f3a\"],[0.8888888888888888,\"#fdca26\"],[1.0,\"#f0f921\"]],\"type\":\"histogram2d\"}],\"histogram2dcontour\":[{\"colorbar\":{\"outlinewidth\":0,\"ticks\":\"\"},\"colorscale\":[[0.0,\"#0d0887\"],[0.1111111111111111,\"#46039f\"],[0.2222222222222222,\"#7201a8\"],[0.3333333333333333,\"#9c179e\"],[0.4444444444444444,\"#bd3786\"],[0.5555555555555556,\"#d8576b\"],[0.6666666666666666,\"#ed7953\"],[0.7777777777777778,\"#fb9f3a\"],[0.8888888888888888,\"#fdca26\"],[1.0,\"#f0f921\"]],\"type\":\"histogram2dcontour\"}],\"mesh3d\":[{\"colorbar\":{\"outlinewidth\":0,\"ticks\":\"\"},\"type\":\"mesh3d\"}],\"parcoords\":[{\"line\":{\"colorbar\":{\"outlinewidth\":0,\"ticks\":\"\"}},\"type\":\"parcoords\"}],\"pie\":[{\"automargin\":true,\"type\":\"pie\"}],\"scatter\":[{\"marker\":{\"colorbar\":{\"outlinewidth\":0,\"ticks\":\"\"}},\"type\":\"scatter\"}],\"scatter3d\":[{\"line\":{\"colorbar\":{\"outlinewidth\":0,\"ticks\":\"\"}},\"marker\":{\"colorbar\":{\"outlinewidth\":0,\"ticks\":\"\"}},\"type\":\"scatter3d\"}],\"scattercarpet\":[{\"marker\":{\"colorbar\":{\"outlinewidth\":0,\"ticks\":\"\"}},\"type\":\"scattercarpet\"}],\"scattergeo\":[{\"marker\":{\"colorbar\":{\"outlinewidth\":0,\"ticks\":\"\"}},\"type\":\"scattergeo\"}],\"scattergl\":[{\"marker\":{\"colorbar\":{\"outlinewidth\":0,\"ticks\":\"\"}},\"type\":\"scattergl\"}],\"scattermapbox\":[{\"marker\":{\"colorbar\":{\"outlinewidth\":0,\"ticks\":\"\"}},\"type\":\"scattermapbox\"}],\"scatterpolar\":[{\"marker\":{\"colorbar\":{\"outlinewidth\":0,\"ticks\":\"\"}},\"type\":\"scatterpolar\"}],\"scatterpolargl\":[{\"marker\":{\"colorbar\":{\"outlinewidth\":0,\"ticks\":\"\"}},\"type\":\"scatterpolargl\"}],\"scatterternary\":[{\"marker\":{\"colorbar\":{\"outlinewidth\":0,\"ticks\":\"\"}},\"type\":\"scatterternary\"}],\"surface\":[{\"colorbar\":{\"outlinewidth\":0,\"ticks\":\"\"},\"colorscale\":[[0.0,\"#0d0887\"],[0.1111111111111111,\"#46039f\"],[0.2222222222222222,\"#7201a8\"],[0.3333333333333333,\"#9c179e\"],[0.4444444444444444,\"#bd3786\"],[0.5555555555555556,\"#d8576b\"],[0.6666666666666666,\"#ed7953\"],[0.7777777777777778,\"#fb9f3a\"],[0.8888888888888888,\"#fdca26\"],[1.0,\"#f0f921\"]],\"type\":\"surface\"}],\"table\":[{\"cells\":{\"fill\":{\"color\":\"#EBF0F8\"},\"line\":{\"color\":\"white\"}},\"header\":{\"fill\":{\"color\":\"#C8D4E3\"},\"line\":{\"color\":\"white\"}},\"type\":\"table\"}]},\"layout\":{\"annotationdefaults\":{\"arrowcolor\":\"#2a3f5f\",\"arrowhead\":0,\"arrowwidth\":1},\"autotypenumbers\":\"strict\",\"coloraxis\":{\"colorbar\":{\"outlinewidth\":0,\"ticks\":\"\"}},\"colorscale\":{\"diverging\":[[0,\"#8e0152\"],[0.1,\"#c51b7d\"],[0.2,\"#de77ae\"],[0.3,\"#f1b6da\"],[0.4,\"#fde0ef\"],[0.5,\"#f7f7f7\"],[0.6,\"#e6f5d0\"],[0.7,\"#b8e186\"],[0.8,\"#7fbc41\"],[0.9,\"#4d9221\"],[1,\"#276419\"]],\"sequential\":[[0.0,\"#0d0887\"],[0.1111111111111111,\"#46039f\"],[0.2222222222222222,\"#7201a8\"],[0.3333333333333333,\"#9c179e\"],[0.4444444444444444,\"#bd3786\"],[0.5555555555555556,\"#d8576b\"],[0.6666666666666666,\"#ed7953\"],[0.7777777777777778,\"#fb9f3a\"],[0.8888888888888888,\"#fdca26\"],[1.0,\"#f0f921\"]],\"sequentialminus\":[[0.0,\"#0d0887\"],[0.1111111111111111,\"#46039f\"],[0.2222222222222222,\"#7201a8\"],[0.3333333333333333,\"#9c179e\"],[0.4444444444444444,\"#bd3786\"],[0.5555555555555556,\"#d8576b\"],[0.6666666666666666,\"#ed7953\"],[0.7777777777777778,\"#fb9f3a\"],[0.8888888888888888,\"#fdca26\"],[1.0,\"#f0f921\"]]},\"colorway\":[\"#636efa\",\"#EF553B\",\"#00cc96\",\"#ab63fa\",\"#FFA15A\",\"#19d3f3\",\"#FF6692\",\"#B6E880\",\"#FF97FF\",\"#FECB52\"],\"font\":{\"color\":\"#2a3f5f\"},\"geo\":{\"bgcolor\":\"white\",\"lakecolor\":\"white\",\"landcolor\":\"#E5ECF6\",\"showlakes\":true,\"showland\":true,\"subunitcolor\":\"white\"},\"hoverlabel\":{\"align\":\"left\"},\"hovermode\":\"closest\",\"mapbox\":{\"style\":\"light\"},\"paper_bgcolor\":\"white\",\"plot_bgcolor\":\"#E5ECF6\",\"polar\":{\"angularaxis\":{\"gridcolor\":\"white\",\"linecolor\":\"white\",\"ticks\":\"\"},\"bgcolor\":\"#E5ECF6\",\"radialaxis\":{\"gridcolor\":\"white\",\"linecolor\":\"white\",\"ticks\":\"\"}},\"scene\":{\"xaxis\":{\"backgroundcolor\":\"#E5ECF6\",\"gridcolor\":\"white\",\"gridwidth\":2,\"linecolor\":\"white\",\"showbackground\":true,\"ticks\":\"\",\"zerolinecolor\":\"white\"},\"yaxis\":{\"backgroundcolor\":\"#E5ECF6\",\"gridcolor\":\"white\",\"gridwidth\":2,\"linecolor\":\"white\",\"showbackground\":true,\"ticks\":\"\",\"zerolinecolor\":\"white\"},\"zaxis\":{\"backgroundcolor\":\"#E5ECF6\",\"gridcolor\":\"white\",\"gridwidth\":2,\"linecolor\":\"white\",\"showbackground\":true,\"ticks\":\"\",\"zerolinecolor\":\"white\"}},\"shapedefaults\":{\"line\":{\"color\":\"#2a3f5f\"}},\"ternary\":{\"aaxis\":{\"gridcolor\":\"white\",\"linecolor\":\"white\",\"ticks\":\"\"},\"baxis\":{\"gridcolor\":\"white\",\"linecolor\":\"white\",\"ticks\":\"\"},\"bgcolor\":\"#E5ECF6\",\"caxis\":{\"gridcolor\":\"white\",\"linecolor\":\"white\",\"ticks\":\"\"}},\"title\":{\"x\":0.05},\"xaxis\":{\"automargin\":true,\"gridcolor\":\"white\",\"linecolor\":\"white\",\"ticks\":\"\",\"title\":{\"standoff\":15},\"zerolinecolor\":\"white\",\"zerolinewidth\":2},\"yaxis\":{\"automargin\":true,\"gridcolor\":\"white\",\"linecolor\":\"white\",\"ticks\":\"\",\"title\":{\"standoff\":15},\"zerolinecolor\":\"white\",\"zerolinewidth\":2}}},\"xaxis\":{\"anchor\":\"y\",\"domain\":[0.0,1.0],\"title\":{\"text\":\"eruptions\"}},\"yaxis\":{\"anchor\":\"x\",\"domain\":[0.0,1.0],\"title\":{\"text\":\"waiting\"}},\"legend\":{\"tracegroupgap\":0},\"margin\":{\"t\":60}},                        {\"responsive\": true}                    ).then(function(){\n",
              "                            \n",
              "var gd = document.getElementById('7c63e085-e914-466c-9fa9-7cdad65246dd');\n",
              "var x = new MutationObserver(function (mutations, observer) {{\n",
              "        var display = window.getComputedStyle(gd).display;\n",
              "        if (!display || display === 'none') {{\n",
              "            console.log([gd, 'removed!']);\n",
              "            Plotly.purge(gd);\n",
              "            observer.disconnect();\n",
              "        }}\n",
              "}});\n",
              "\n",
              "// Listen for the removal of the full notebook cells\n",
              "var notebookContainer = gd.closest('#notebook-container');\n",
              "if (notebookContainer) {{\n",
              "    x.observe(notebookContainer, {childList: true});\n",
              "}}\n",
              "\n",
              "// Listen for the clearing of the current output cell\n",
              "var outputEl = gd.closest('.output');\n",
              "if (outputEl) {{\n",
              "    x.observe(outputEl, {childList: true});\n",
              "}}\n",
              "\n",
              "                        })                };                            </script>        </div>\n",
              "</body>\n",
              "</html>"
            ]
          },
          "metadata": {}
        }
      ]
    },
    {
      "cell_type": "markdown",
      "source": [
        "###**b. How many clusters do you see based on your scatter plot? For the purposes of this question, a cluster is a “blob” of many data points that are close together, with regions of fewer data points between it and other “blobs”/clusters.** <br>\n",
        "A. There are two cluster based on the scatter plot showed above. <br>\n",
        "###**c. Describe the steps of a hierarchical clustering algorithm. Based on your scatter plot, would this method be appropriate for this dataset?**<br>\n",
        "A. When using hierarchical clustering, each record is first treated as a separate cluster. The distance between each cluster and the others is then calculated; if the distance is very small, the records are then treated as belonging to the same cluster. This process is repeated until the desired number of clusters is obtained. Based on the graph this method will be appropriate.\n"
      ],
      "metadata": {
        "id": "G03NujlpYYzM"
      }
    },
    {
      "cell_type": "markdown",
      "source": [
        "##Problem 2\n",
        "###**a.Your source code for the k-means algorithm. You need to implement the algorithm from scratch.**<br>\n",
        "\n"
      ],
      "metadata": {
        "id": "5wLyAV9Uc7mp"
      }
    },
    {
      "cell_type": "code",
      "source": [
        "class K_Means:\n",
        "    def __init__(self, k=2, tol=0.001, max_iter=300):\n",
        "        self.k = k\n",
        "        self.tol = tol\n",
        "        self.max_iter = max_iter\n",
        "\n",
        "    def fit(self,data):\n",
        "\n",
        "        self.centroids = {}\n",
        "\n",
        "        for i in range(self.k):\n",
        "            self.centroids[i] = data[i]\n",
        "\n",
        "        for i in range(self.max_iter):\n",
        "            self.classifications = {}\n",
        "\n",
        "            for i in range(self.k):\n",
        "                self.classifications[i] = []\n",
        "\n",
        "            for featureset in data:\n",
        "                distances = [np.linalg.norm(featureset-self.centroids[centroid]) for centroid in self.centroids]\n",
        "                classification = distances.index(min(distances))\n",
        "                self.classifications[classification].append(featureset)\n",
        "\n",
        "            prev_centroids = dict(self.centroids)\n",
        "\n",
        "            for classification in self.classifications:\n",
        "                self.centroids[classification] = np.average(self.classifications[classification],axis=0)\n",
        "\n",
        "            optimized = True\n",
        "\n",
        "            for c in self.centroids:\n",
        "                original_centroid = prev_centroids[c]\n",
        "                current_centroid = self.centroids[c]\n",
        "                if np.sum((current_centroid-original_centroid)/original_centroid*100.0) > self.tol:\n",
        "                    print(np.sum((current_centroid-original_centroid)/original_centroid*100.0))\n",
        "                    optimized = False\n",
        "\n",
        "            if optimized:\n",
        "                break\n",
        "\n",
        "    def predict(self,data):\n",
        "        distances = [np.linalg.norm(data-self.centroids[centroid]) for centroid in self.centroids]\n",
        "        classification = distances.index(min(distances))\n",
        "        return classification\n"
      ],
      "metadata": {
        "id": "JAnjI-G6wzbj"
      },
      "execution_count": null,
      "outputs": []
    },
    {
      "cell_type": "code",
      "source": [
        "df.values"
      ],
      "metadata": {
        "id": "vR8xc2hUpzSY",
        "colab": {
          "base_uri": "https://localhost:8080/"
        },
        "outputId": "d130a3d2-58ea-4eb0-95ef-c36f0c2dd66e"
      },
      "execution_count": null,
      "outputs": [
        {
          "output_type": "execute_result",
          "data": {
            "text/plain": [
              "array([[ 3.6  , 79.   ],\n",
              "       [ 1.8  , 54.   ],\n",
              "       [ 3.333, 74.   ],\n",
              "       [ 2.283, 62.   ],\n",
              "       [ 4.533, 85.   ],\n",
              "       [ 2.883, 55.   ],\n",
              "       [ 4.7  , 88.   ],\n",
              "       [ 3.6  , 85.   ],\n",
              "       [ 1.95 , 51.   ],\n",
              "       [ 4.35 , 85.   ],\n",
              "       [ 1.833, 54.   ],\n",
              "       [ 3.917, 84.   ],\n",
              "       [ 4.2  , 78.   ],\n",
              "       [ 1.75 , 47.   ],\n",
              "       [ 4.7  , 83.   ],\n",
              "       [ 2.167, 52.   ],\n",
              "       [ 1.75 , 62.   ],\n",
              "       [ 4.8  , 84.   ],\n",
              "       [ 1.6  , 52.   ],\n",
              "       [ 4.25 , 79.   ],\n",
              "       [ 1.8  , 51.   ],\n",
              "       [ 1.75 , 47.   ],\n",
              "       [ 3.45 , 78.   ],\n",
              "       [ 3.067, 69.   ],\n",
              "       [ 4.533, 74.   ],\n",
              "       [ 3.6  , 83.   ],\n",
              "       [ 1.967, 55.   ],\n",
              "       [ 4.083, 76.   ],\n",
              "       [ 3.85 , 78.   ],\n",
              "       [ 4.433, 79.   ],\n",
              "       [ 4.3  , 73.   ],\n",
              "       [ 4.467, 77.   ],\n",
              "       [ 3.367, 66.   ],\n",
              "       [ 4.033, 80.   ],\n",
              "       [ 3.833, 74.   ],\n",
              "       [ 2.017, 52.   ],\n",
              "       [ 1.867, 48.   ],\n",
              "       [ 4.833, 80.   ],\n",
              "       [ 1.833, 59.   ],\n",
              "       [ 4.783, 90.   ],\n",
              "       [ 4.35 , 80.   ],\n",
              "       [ 1.883, 58.   ],\n",
              "       [ 4.567, 84.   ],\n",
              "       [ 1.75 , 58.   ],\n",
              "       [ 4.533, 73.   ],\n",
              "       [ 3.317, 83.   ],\n",
              "       [ 3.833, 64.   ],\n",
              "       [ 2.1  , 53.   ],\n",
              "       [ 4.633, 82.   ],\n",
              "       [ 2.   , 59.   ],\n",
              "       [ 4.8  , 75.   ],\n",
              "       [ 4.716, 90.   ],\n",
              "       [ 1.833, 54.   ],\n",
              "       [ 4.833, 80.   ],\n",
              "       [ 1.733, 54.   ],\n",
              "       [ 4.883, 83.   ],\n",
              "       [ 3.717, 71.   ],\n",
              "       [ 1.667, 64.   ],\n",
              "       [ 4.567, 77.   ],\n",
              "       [ 4.317, 81.   ],\n",
              "       [ 2.233, 59.   ],\n",
              "       [ 4.5  , 84.   ],\n",
              "       [ 1.75 , 48.   ],\n",
              "       [ 4.8  , 82.   ],\n",
              "       [ 1.817, 60.   ],\n",
              "       [ 4.4  , 92.   ],\n",
              "       [ 4.167, 78.   ],\n",
              "       [ 4.7  , 78.   ],\n",
              "       [ 2.067, 65.   ],\n",
              "       [ 4.7  , 73.   ],\n",
              "       [ 4.033, 82.   ],\n",
              "       [ 1.967, 56.   ],\n",
              "       [ 4.5  , 79.   ],\n",
              "       [ 4.   , 71.   ],\n",
              "       [ 1.983, 62.   ],\n",
              "       [ 5.067, 76.   ],\n",
              "       [ 2.017, 60.   ],\n",
              "       [ 4.567, 78.   ],\n",
              "       [ 3.883, 76.   ],\n",
              "       [ 3.6  , 83.   ],\n",
              "       [ 4.133, 75.   ],\n",
              "       [ 4.333, 82.   ],\n",
              "       [ 4.1  , 70.   ],\n",
              "       [ 2.633, 65.   ],\n",
              "       [ 4.067, 73.   ],\n",
              "       [ 4.933, 88.   ],\n",
              "       [ 3.95 , 76.   ],\n",
              "       [ 4.517, 80.   ],\n",
              "       [ 2.167, 48.   ],\n",
              "       [ 4.   , 86.   ],\n",
              "       [ 2.2  , 60.   ],\n",
              "       [ 4.333, 90.   ],\n",
              "       [ 1.867, 50.   ],\n",
              "       [ 4.817, 78.   ],\n",
              "       [ 1.833, 63.   ],\n",
              "       [ 4.3  , 72.   ],\n",
              "       [ 4.667, 84.   ],\n",
              "       [ 3.75 , 75.   ],\n",
              "       [ 1.867, 51.   ],\n",
              "       [ 4.9  , 82.   ],\n",
              "       [ 2.483, 62.   ],\n",
              "       [ 4.367, 88.   ],\n",
              "       [ 2.1  , 49.   ],\n",
              "       [ 4.5  , 83.   ],\n",
              "       [ 4.05 , 81.   ],\n",
              "       [ 1.867, 47.   ],\n",
              "       [ 4.7  , 84.   ],\n",
              "       [ 1.783, 52.   ],\n",
              "       [ 4.85 , 86.   ],\n",
              "       [ 3.683, 81.   ],\n",
              "       [ 4.733, 75.   ],\n",
              "       [ 2.3  , 59.   ],\n",
              "       [ 4.9  , 89.   ],\n",
              "       [ 4.417, 79.   ],\n",
              "       [ 1.7  , 59.   ],\n",
              "       [ 4.633, 81.   ],\n",
              "       [ 2.317, 50.   ],\n",
              "       [ 4.6  , 85.   ],\n",
              "       [ 1.817, 59.   ],\n",
              "       [ 4.417, 87.   ],\n",
              "       [ 2.617, 53.   ],\n",
              "       [ 4.067, 69.   ],\n",
              "       [ 4.25 , 77.   ],\n",
              "       [ 1.967, 56.   ],\n",
              "       [ 4.6  , 88.   ],\n",
              "       [ 3.767, 81.   ],\n",
              "       [ 1.917, 45.   ],\n",
              "       [ 4.5  , 82.   ],\n",
              "       [ 2.267, 55.   ],\n",
              "       [ 4.65 , 90.   ],\n",
              "       [ 1.867, 45.   ],\n",
              "       [ 4.167, 83.   ],\n",
              "       [ 2.8  , 56.   ],\n",
              "       [ 4.333, 89.   ],\n",
              "       [ 1.833, 46.   ],\n",
              "       [ 4.383, 82.   ],\n",
              "       [ 1.883, 51.   ],\n",
              "       [ 4.933, 86.   ],\n",
              "       [ 2.033, 53.   ],\n",
              "       [ 3.733, 79.   ],\n",
              "       [ 4.233, 81.   ],\n",
              "       [ 2.233, 60.   ],\n",
              "       [ 4.533, 82.   ],\n",
              "       [ 4.817, 77.   ],\n",
              "       [ 4.333, 76.   ],\n",
              "       [ 1.983, 59.   ],\n",
              "       [ 4.633, 80.   ],\n",
              "       [ 2.017, 49.   ],\n",
              "       [ 5.1  , 96.   ],\n",
              "       [ 1.8  , 53.   ],\n",
              "       [ 5.033, 77.   ],\n",
              "       [ 4.   , 77.   ],\n",
              "       [ 2.4  , 65.   ],\n",
              "       [ 4.6  , 81.   ],\n",
              "       [ 3.567, 71.   ],\n",
              "       [ 4.   , 70.   ],\n",
              "       [ 4.5  , 81.   ],\n",
              "       [ 4.083, 93.   ],\n",
              "       [ 1.8  , 53.   ],\n",
              "       [ 3.967, 89.   ],\n",
              "       [ 2.2  , 45.   ],\n",
              "       [ 4.15 , 86.   ],\n",
              "       [ 2.   , 58.   ],\n",
              "       [ 3.833, 78.   ],\n",
              "       [ 3.5  , 66.   ],\n",
              "       [ 4.583, 76.   ],\n",
              "       [ 2.367, 63.   ],\n",
              "       [ 5.   , 88.   ],\n",
              "       [ 1.933, 52.   ],\n",
              "       [ 4.617, 93.   ],\n",
              "       [ 1.917, 49.   ],\n",
              "       [ 2.083, 57.   ],\n",
              "       [ 4.583, 77.   ],\n",
              "       [ 3.333, 68.   ],\n",
              "       [ 4.167, 81.   ],\n",
              "       [ 4.333, 81.   ],\n",
              "       [ 4.5  , 73.   ],\n",
              "       [ 2.417, 50.   ],\n",
              "       [ 4.   , 85.   ],\n",
              "       [ 4.167, 74.   ],\n",
              "       [ 1.883, 55.   ],\n",
              "       [ 4.583, 77.   ],\n",
              "       [ 4.25 , 83.   ],\n",
              "       [ 3.767, 83.   ],\n",
              "       [ 2.033, 51.   ],\n",
              "       [ 4.433, 78.   ],\n",
              "       [ 4.083, 84.   ],\n",
              "       [ 1.833, 46.   ],\n",
              "       [ 4.417, 83.   ],\n",
              "       [ 2.183, 55.   ],\n",
              "       [ 4.8  , 81.   ],\n",
              "       [ 1.833, 57.   ],\n",
              "       [ 4.8  , 76.   ],\n",
              "       [ 4.1  , 84.   ],\n",
              "       [ 3.966, 77.   ],\n",
              "       [ 4.233, 81.   ],\n",
              "       [ 3.5  , 87.   ],\n",
              "       [ 4.366, 77.   ],\n",
              "       [ 2.25 , 51.   ],\n",
              "       [ 4.667, 78.   ],\n",
              "       [ 2.1  , 60.   ],\n",
              "       [ 4.35 , 82.   ],\n",
              "       [ 4.133, 91.   ],\n",
              "       [ 1.867, 53.   ],\n",
              "       [ 4.6  , 78.   ],\n",
              "       [ 1.783, 46.   ],\n",
              "       [ 4.367, 77.   ],\n",
              "       [ 3.85 , 84.   ],\n",
              "       [ 1.933, 49.   ],\n",
              "       [ 4.5  , 83.   ],\n",
              "       [ 2.383, 71.   ],\n",
              "       [ 4.7  , 80.   ],\n",
              "       [ 1.867, 49.   ],\n",
              "       [ 3.833, 75.   ],\n",
              "       [ 3.417, 64.   ],\n",
              "       [ 4.233, 76.   ],\n",
              "       [ 2.4  , 53.   ],\n",
              "       [ 4.8  , 94.   ],\n",
              "       [ 2.   , 55.   ],\n",
              "       [ 4.15 , 76.   ],\n",
              "       [ 1.867, 50.   ],\n",
              "       [ 4.267, 82.   ],\n",
              "       [ 1.75 , 54.   ],\n",
              "       [ 4.483, 75.   ],\n",
              "       [ 4.   , 78.   ],\n",
              "       [ 4.117, 79.   ],\n",
              "       [ 4.083, 78.   ],\n",
              "       [ 4.267, 78.   ],\n",
              "       [ 3.917, 70.   ],\n",
              "       [ 4.55 , 79.   ],\n",
              "       [ 4.083, 70.   ],\n",
              "       [ 2.417, 54.   ],\n",
              "       [ 4.183, 86.   ],\n",
              "       [ 2.217, 50.   ],\n",
              "       [ 4.45 , 90.   ],\n",
              "       [ 1.883, 54.   ],\n",
              "       [ 1.85 , 54.   ],\n",
              "       [ 4.283, 77.   ],\n",
              "       [ 3.95 , 79.   ],\n",
              "       [ 2.333, 64.   ],\n",
              "       [ 4.15 , 75.   ],\n",
              "       [ 2.35 , 47.   ],\n",
              "       [ 4.933, 86.   ],\n",
              "       [ 2.9  , 63.   ],\n",
              "       [ 4.583, 85.   ],\n",
              "       [ 3.833, 82.   ],\n",
              "       [ 2.083, 57.   ],\n",
              "       [ 4.367, 82.   ],\n",
              "       [ 2.133, 67.   ],\n",
              "       [ 4.35 , 74.   ],\n",
              "       [ 2.2  , 54.   ],\n",
              "       [ 4.45 , 83.   ],\n",
              "       [ 3.567, 73.   ],\n",
              "       [ 4.5  , 73.   ],\n",
              "       [ 4.15 , 88.   ],\n",
              "       [ 3.817, 80.   ],\n",
              "       [ 3.917, 71.   ],\n",
              "       [ 4.45 , 83.   ],\n",
              "       [ 2.   , 56.   ],\n",
              "       [ 4.283, 79.   ],\n",
              "       [ 4.767, 78.   ],\n",
              "       [ 4.533, 84.   ],\n",
              "       [ 1.85 , 58.   ],\n",
              "       [ 4.25 , 83.   ],\n",
              "       [ 1.983, 43.   ],\n",
              "       [ 2.25 , 60.   ],\n",
              "       [ 4.75 , 75.   ],\n",
              "       [ 4.117, 81.   ],\n",
              "       [ 2.15 , 46.   ],\n",
              "       [ 4.417, 90.   ],\n",
              "       [ 1.817, 46.   ],\n",
              "       [ 4.467, 74.   ]])"
            ]
          },
          "metadata": {},
          "execution_count": 11
        }
      ]
    },
    {
      "cell_type": "code",
      "source": [
        "\n",
        "model = K_Means()\n",
        "model.fit(df.values)\n",
        "\n",
        "for centroid in model.centroids:\n",
        "    plt.scatter(model.centroids[centroid][0], model.centroids[centroid][1],\n",
        "                marker=\"o\", color=\"k\", s=10, linewidths=5)"
      ],
      "metadata": {
        "id": "q2Vf6MvTp5sf",
        "colab": {
          "base_uri": "https://localhost:8080/",
          "height": 334
        },
        "outputId": "5ba00276-691f-4773-957c-8dd0ec4f8ca3"
      },
      "execution_count": null,
      "outputs": [
        {
          "output_type": "stream",
          "name": "stdout",
          "text": [
            "20.568569465785416\n",
            "17.489711934156336\n",
            "0.38775476484080984\n",
            "0.24517039664668383\n"
          ]
        },
        {
          "output_type": "display_data",
          "data": {
            "text/plain": [
              "<Figure size 432x288 with 1 Axes>"
            ],
            "image/png": "[encoded data removed]"
          },
          "metadata": {
            "needs_background": "light"
          }
        }
      ]
    },
    {
      "cell_type": "markdown",
      "source": [
        "###**b. A scatter plot of your final clustering, with the data points in each cluster color-coded, or plotted with different symbols. Include the cluster centers in your plot.**<br>"
      ],
      "metadata": {
        "id": "TSQICYa-gimx"
      }
    },
    {
      "cell_type": "code",
      "source": [
        "colors = [\"blue\", \"orange\" , \"red\", \"green\"]\n",
        "\n",
        "def recalculate_clusters(X,centroids,k):\n",
        "    clusters=dict()\n",
        "    for i in range(k):\n",
        "        clusters[i]=[]\n",
        "    for data in X:\n",
        "        e_distance=[]\n",
        "        for j in range(k):\n",
        "            e_distance.append(np.linalg.norm(data - centroids[j]))\n",
        "        clusters[e_distance.index(min(e_distance))].append(data)\n",
        "    return clusters    \n",
        " \n",
        "def recalculate_centroids(centroids,clusters,k):\n",
        "    for i in range(k):\n",
        "        centroids[i]=np.average(clusters[i],axis=0)\n",
        "    return centroids\n",
        "\n",
        "def plot_clusters(centroids,clusters,k):\n",
        "    plt.figure(figsize=(10,8))  \n",
        "    area = (20)**2\n",
        "    for i in range(k):\n",
        "        for cluster in clusters[i]:\n",
        "            plt.scatter(cluster[0],cluster[1],c=colors[i % 3])          \n",
        "        plt.scatter(centroids[i][0],centroids[i][1],s=area,marker='^', edgecolors='white',c=colors[i % 3])"
      ],
      "metadata": {
        "id": "-lmsPq95p8HA"
      },
      "execution_count": null,
      "outputs": []
    },
    {
      "cell_type": "code",
      "source": [
        "k=2\n",
        "X = df.values\n",
        "centroids={}\n",
        "for i in range(k):\n",
        "    centroids[i]=X[i]\n",
        "    \n",
        "for i in range(1):        \n",
        "    clusters=recalculate_clusters(X,centroids,k)  \n",
        "    centroids=recalculate_centroids(centroids,clusters,k)\n",
        "    plot_clusters(centroids,clusters,k)"
      ],
      "metadata": {
        "id": "W-D6pzdEqKwu",
        "colab": {
          "base_uri": "https://localhost:8080/",
          "height": 483
        },
        "outputId": "bb1b5f33-954c-468b-f19a-f17e11a85201"
      },
      "execution_count": null,
      "outputs": [
        {
          "output_type": "display_data",
          "data": {
            "text/plain": [
              "<Figure size 720x576 with 1 Axes>"
            ],
            "image/png": "[encoded data removed]"
          },
          "metadata": {
            "needs_background": "light"
          }
        }
      ]
    },
    {
      "cell_type": "markdown",
      "source": [
        "###**d. Did the method manage to find the clusters that you identified in Problem 1? If not, did it help to run the method again with another random initialization?**<br>\n",
        "A. Yes the method helped to find the clusters in the problem 1.<br>\n",
        "\n",
        "Refrences: https://anderfernandez.com/en/blog/kmeans-algorithm-python/\n"
      ],
      "metadata": {
        "id": "zqbUofRChV5n"
      }
    },
    {
      "cell_type": "code",
      "source": [],
      "metadata": {
        "id": "jSJDVckzcTr4"
      },
      "execution_count": null,
      "outputs": []
    }
  ]
}